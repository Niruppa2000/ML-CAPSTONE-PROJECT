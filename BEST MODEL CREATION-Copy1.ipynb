{
 "cells": [
  {
   "cell_type": "code",
   "execution_count": 1,
   "id": "ebf02f1e",
   "metadata": {},
   "outputs": [
    {
     "name": "stdout",
     "output_type": "stream",
     "text": [
      "Top 5 features selected using Chi-Square:\n",
      "['Credit_Score', 'Interest_Rate', 'Gender_Female', 'Employment_Status_Employed', 'Location_Urban']\n",
      "Confusion Matrix:\n",
      " [[   0  501]\n",
      " [   0 1999]]\n",
      "Classification Report:\n",
      "               precision    recall  f1-score   support\n",
      "\n",
      "           0       0.00      0.00      0.00       501\n",
      "           1       0.80      1.00      0.89      1999\n",
      "\n",
      "    accuracy                           0.80      2500\n",
      "   macro avg       0.40      0.50      0.44      2500\n",
      "weighted avg       0.64      0.80      0.71      2500\n",
      "\n",
      "Accuracy Score: 0.7996\n"
     ]
    },
    {
     "name": "stderr",
     "output_type": "stream",
     "text": [
      "C:\\Anaconda\\envs\\aiml\\lib\\site-packages\\sklearn\\metrics\\classification.py:1437: UndefinedMetricWarning: Precision and F-score are ill-defined and being set to 0.0 in labels with no predicted samples.\n",
      "  'precision', 'predicted', average, warn_for)\n"
     ]
    }
   ],
   "source": [
    "import pandas as pd\n",
    "from sklearn.model_selection import train_test_split\n",
    "from sklearn.preprocessing import StandardScaler, MinMaxScaler\n",
    "from sklearn.naive_bayes import GaussianNB\n",
    "from sklearn.feature_selection import SelectKBest, chi2\n",
    "from sklearn.metrics import classification_report, confusion_matrix, accuracy_score\n",
    "import pickle\n",
    "\n",
    "# Load dataset\n",
    "df = pd.read_csv(\"Preprocessed_Loan_Default.csv\")\n",
    "df = pd.get_dummies(df, drop_first=True)\n",
    "\n",
    "# Define features and target\n",
    "X = df.drop('Loan_Status_Non-Default', axis=1)\n",
    "y = df['Loan_Status_Non-Default']\n",
    "\n",
    "# Scale features to [0,1] for chi2\n",
    "X_scaled_for_chi2 = MinMaxScaler().fit_transform(X)\n",
    "\n",
    "# Select top 5 features using Chi-Square\n",
    "selector = SelectKBest(score_func=chi2, k=5)\n",
    "X_selected = selector.fit_transform(X_scaled_for_chi2, y)\n",
    "selected_columns = X.columns[selector.get_support()].tolist()\n",
    "\n",
    "print(\"Top 5 features selected using Chi-Square:\")\n",
    "print(selected_columns)\n",
    "\n",
    "# Use only selected features from original (non-scaled) X\n",
    "X_top5 = X[selected_columns]\n",
    "\n",
    "# Train-test split\n",
    "X_train, X_test, y_train, y_test = train_test_split(X_top5, y, test_size=0.25, random_state=0)\n",
    "\n",
    "# Standard scaling for model\n",
    "scaler = StandardScaler()\n",
    "X_train_scaled = scaler.fit_transform(X_train)\n",
    "X_test_scaled = scaler.transform(X_test)\n",
    "\n",
    "# Train Naive Bayes model\n",
    "model = GaussianNB()\n",
    "model.fit(X_train_scaled, y_train)\n",
    "\n",
    "# Evaluation\n",
    "y_pred = model.predict(X_test_scaled)\n",
    "print(\"Confusion Matrix:\\n\", confusion_matrix(y_test, y_pred))\n",
    "print(\"Classification Report:\\n\", classification_report(y_test, y_pred))\n",
    "print(\"Accuracy Score:\", accuracy_score(y_test, y_pred))\n",
    "\n",
    "# Save model, scaler, and feature names\n",
    "with open(\"naive_bayes_model.pkl\", \"wb\") as f:\n",
    "    pickle.dump(model, f)\n",
    "\n",
    "with open(\"scaler.pkl\", \"wb\") as f:\n",
    "    pickle.dump(scaler, f)\n",
    "\n",
    "with open(\"feature_names.pkl\", \"wb\") as f:\n",
    "    pickle.dump(selected_columns, f)\n"
   ]
  },
  {
   "cell_type": "code",
   "execution_count": 3,
   "id": "14bb6e68",
   "metadata": {},
   "outputs": [
    {
     "name": "stdout",
     "output_type": "stream",
     "text": [
      "Loan Prediction: Non-Default\n",
      "Probability of Non-Default: 0.79\n"
     ]
    }
   ],
   "source": [
    "import pandas as pd\n",
    "import pickle\n",
    "\n",
    "# Load model, scaler, and selected feature names\n",
    "with open(\"naive_bayes_model.pkl\", \"rb\") as f:\n",
    "    model = pickle.load(f)\n",
    "\n",
    "with open(\"scaler.pkl\", \"rb\") as f:\n",
    "    scaler = pickle.load(f)\n",
    "\n",
    "with open(\"feature_names.pkl\", \"rb\") as f:\n",
    "    feature_names = pickle.load(f)\n",
    "\n",
    "# Create a sample user input — only provide actual values for relevant features\n",
    "user_input = {\n",
    "    'Income': 1,\n",
    "    'Credit_Score': 2,\n",
    "    'Existing_Loan_Balance': 5,\n",
    "    'Loan_Amount': 3,\n",
    "    'Interest_Rate': 1,\n",
    "    # Ensure dummy variables are provided if selected\n",
    "    'Employment_Status_Employed': 1,\n",
    "    'Gender_Female': 0,\n",
    "    'Location_Urban': 1\n",
    "}\n",
    "\n",
    "# Create DataFrame from input\n",
    "user_df = pd.DataFrame([user_input])\n",
    "\n",
    "# Ensure all required features are present (add any missing ones with 0)\n",
    "for col in feature_names:\n",
    "    if col not in user_df.columns:\n",
    "        user_df[col] = 0  # default to 0 for dummy variables\n",
    "\n",
    "# Reorder to match training feature order\n",
    "user_df = user_df[feature_names]\n",
    "\n",
    "# Scale user input\n",
    "user_scaled = scaler.transform(user_df)\n",
    "\n",
    "# Predict\n",
    "prediction = model.predict(user_scaled)[0]\n",
    "probability = model.predict_proba(user_scaled)[0][1]\n",
    "\n",
    "# Display result\n",
    "result = \"Non-Default\" if prediction == 1 else \"Default\"\n",
    "print(f\"Loan Prediction: {result}\")\n",
    "print(f\"Probability of Non-Default: {probability:.2f}\")\n"
   ]
  },
  {
   "cell_type": "code",
   "execution_count": null,
   "id": "6a6089c6",
   "metadata": {},
   "outputs": [],
   "source": []
  }
 ],
 "metadata": {
  "kernelspec": {
   "display_name": "Python 3 (ipykernel)",
   "language": "python",
   "name": "python3"
  },
  "language_info": {
   "codemirror_mode": {
    "name": "ipython",
    "version": 3
   },
   "file_extension": ".py",
   "mimetype": "text/x-python",
   "name": "python",
   "nbconvert_exporter": "python",
   "pygments_lexer": "ipython3",
   "version": "3.7.1"
  }
 },
 "nbformat": 4,
 "nbformat_minor": 5
}
