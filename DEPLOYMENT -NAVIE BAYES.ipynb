{
 "cells": [
  {
   "cell_type": "code",
   "execution_count": 1,
   "id": "9e49d5f2",
   "metadata": {},
   "outputs": [
    {
     "name": "stdout",
     "output_type": "stream",
     "text": [
      "Prediction: Non-Default\n"
     ]
    }
   ],
   "source": [
    "import pickle\n",
    "import numpy as np\n",
    "\n",
    "# Load the trained Naive Bayes model and scaler\n",
    "with open('naive_bayes_model.pkl', 'rb') as model_file:\n",
    "    model = pickle.load(model_file)\n",
    "\n",
    "with open('scaler.pkl', 'rb') as scaler_file:\n",
    "    scaler = pickle.load(scaler_file)\n",
    "\n",
    "\n",
    "\n",
    "new_input = np.array([[35, 55000, 700, 0.3, 2000, 15000, 8.5, 36, 0, 1, 1, 0, 1, 0]])\n",
    "\n",
    "# Scale the input\n",
    "scaled_input = scaler.transform(new_input)\n",
    "\n",
    "# Make prediction\n",
    "prediction = model.predict(scaled_input)\n",
    "\n",
    "# Output result\n",
    "print(\"Prediction:\", \"Non-Default\" if prediction[0] == 1 else \"Default\")\n"
   ]
  },
  {
   "cell_type": "code",
   "execution_count": null,
   "id": "4b804129",
   "metadata": {},
   "outputs": [],
   "source": []
  }
 ],
 "metadata": {
  "kernelspec": {
   "display_name": "Python 3 (ipykernel)",
   "language": "python",
   "name": "python3"
  },
  "language_info": {
   "codemirror_mode": {
    "name": "ipython",
    "version": 3
   },
   "file_extension": ".py",
   "mimetype": "text/x-python",
   "name": "python",
   "nbconvert_exporter": "python",
   "pygments_lexer": "ipython3",
   "version": "3.7.1"
  }
 },
 "nbformat": 4,
 "nbformat_minor": 5
}
