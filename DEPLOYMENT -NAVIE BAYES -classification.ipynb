{
 "cells": [
  {
   "cell_type": "code",
   "execution_count": 3,
   "id": "4b804129",
   "metadata": {},
   "outputs": [
    {
     "name": "stdout",
     "output_type": "stream",
     "text": [
      "Loan Prediction: Non-Default\n",
      "Probability of Non-Default: 0.79\n"
     ]
    }
   ],
   "source": [
    "import pandas as pd\n",
    "import pickle\n",
    "\n",
    "# Load model, scaler, and selected feature names\n",
    "with open(\"naive_bayes_model.pkl\", \"rb\") as f:\n",
    "    model = pickle.load(f)\n",
    "\n",
    "with open(\"scaler.pkl\", \"rb\") as f:\n",
    "    scaler = pickle.load(f)\n",
    "\n",
    "with open(\"feature_names.pkl\", \"rb\") as f:\n",
    "    feature_names = pickle.load(f)\n",
    "\n",
    "# Create a sample user input — only provide actual values for relevant features\n",
    "user_input = {\n",
    "    'Income': 1,\n",
    "    'Credit_Score': 2,\n",
    "    'Existing_Loan_Balance': 5,\n",
    "    'Loan_Amount': 3,\n",
    "    'Interest_Rate': 1,\n",
    "    # Ensure dummy variables are provided if selected\n",
    "    'Employment_Status_Employed': 1,\n",
    "    'Gender_Female': 0,\n",
    "    'Location_Urban': 1\n",
    "}\n",
    "\n",
    "# Create DataFrame from input\n",
    "user_df = pd.DataFrame([user_input])\n",
    "\n",
    "# Ensure all required features are present (add any missing ones with 0)\n",
    "for col in feature_names:\n",
    "    if col not in user_df.columns:\n",
    "        user_df[col] = 0  # default to 0 for dummy variables\n",
    "\n",
    "# Reorder to match training feature order\n",
    "user_df = user_df[feature_names]\n",
    "\n",
    "# Scale user input\n",
    "user_scaled = scaler.transform(user_df)\n",
    "\n",
    "# Predict\n",
    "prediction = model.predict(user_scaled)[0]\n",
    "probability = model.predict_proba(user_scaled)[0][1]\n",
    "\n",
    "# Display result\n",
    "result = \"Non-Default\" if prediction == 1 else \"Default\"\n",
    "print(f\"Loan Prediction: {result}\")\n",
    "print(f\"Probability of Non-Default: {probability:.2f}\")\n"
   ]
  },
  {
   "cell_type": "code",
   "execution_count": null,
   "id": "cdd96e05",
   "metadata": {},
   "outputs": [],
   "source": [
    "//////////////////////////////////////////////////////////////////////////"
   ]
  }
 ],
 "metadata": {
  "kernelspec": {
   "display_name": "Python 3 (ipykernel)",
   "language": "python",
   "name": "python3"
  },
  "language_info": {
   "codemirror_mode": {
    "name": "ipython",
    "version": 3
   },
   "file_extension": ".py",
   "mimetype": "text/x-python",
   "name": "python",
   "nbconvert_exporter": "python",
   "pygments_lexer": "ipython3",
   "version": "3.7.1"
  }
 },
 "nbformat": 4,
 "nbformat_minor": 5
}
