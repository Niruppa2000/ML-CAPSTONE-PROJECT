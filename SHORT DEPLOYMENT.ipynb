{
 "cells": [
  {
   "cell_type": "code",
   "execution_count": 1,
   "id": "25ca2af1",
   "metadata": {},
   "outputs": [
    {
     "name": "stdout",
     "output_type": "stream",
     "text": [
      "Prediction: Default\n",
      "Probability of Non-Default: 0.00\n"
     ]
    }
   ],
   "source": [
    "import pickle\n",
    "import numpy as np\n",
    "\n",
    "# Load model, scaler, and feature names\n",
    "with open(\"naive_bayes_model.pkl\", \"rb\") as f:\n",
    "    model = pickle.load(f)\n",
    "\n",
    "with open(\"scaler.pkl\", \"rb\") as f:\n",
    "    scaler = pickle.load(f)\n",
    "\n",
    "with open(\"feature_names.pkl\", \"rb\") as f:\n",
    "    feature_names = pickle.load(f)\n",
    "\n",
    "# Sample input matching the order of selected 5 features\n",
    "# (Update these values according to your actual top 5 features)\n",
    "input_data = np.array([[55000, 700, 15000, 2000, 8.5]])  # Example: Income, Credit_Score, Existing_Loan_Balance, Loan_Amount, Interest_Rate\n",
    "\n",
    "# Scale input\n",
    "scaled_data = scaler.transform(input_data)\n",
    "\n",
    "# Predict\n",
    "prediction = model.predict(scaled_data)[0]\n",
    "probability = model.predict_proba(scaled_data)[0][1]\n",
    "\n",
    "# Output\n",
    "result = \"Non-Default\" if prediction == 1 else \"Default\"\n",
    "print(f\"Prediction: {result}\")\n",
    "print(f\"Probability of Non-Default: {probability:.2f}\")\n"
   ]
  },
  {
   "cell_type": "code",
   "execution_count": null,
   "id": "175870bb",
   "metadata": {},
   "outputs": [],
   "source": []
  }
 ],
 "metadata": {
  "kernelspec": {
   "display_name": "Python 3 (ipykernel)",
   "language": "python",
   "name": "python3"
  },
  "language_info": {
   "codemirror_mode": {
    "name": "ipython",
    "version": 3
   },
   "file_extension": ".py",
   "mimetype": "text/x-python",
   "name": "python",
   "nbconvert_exporter": "python",
   "pygments_lexer": "ipython3",
   "version": "3.7.1"
  }
 },
 "nbformat": 4,
 "nbformat_minor": 5
}
